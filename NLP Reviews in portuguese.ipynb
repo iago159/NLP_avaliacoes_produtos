{
 "cells": [
  {
   "cell_type": "code",
   "execution_count": 32,
   "id": "9d1c6681",
   "metadata": {},
   "outputs": [],
   "source": [
    "import pandas as pd"
   ]
  },
  {
   "cell_type": "markdown",
   "id": "5114d1e6",
   "metadata": {},
   "source": [
    "# Task 1: Cleaning the dataframe\n",
    "##### - Drop NA values \n",
    "##### - Clean field 'review_text' (strip what need to be stripped)\n",
    "##### - Create column 'sentiment' (positive or negative review) \n"
   ]
  },
  {
   "cell_type": "markdown",
   "id": "a7d478b0",
   "metadata": {},
   "source": [
    "### Read csv and convert to lower case"
   ]
  },
  {
   "cell_type": "code",
   "execution_count": 33,
   "id": "1527d4e1",
   "metadata": {},
   "outputs": [],
   "source": [
    "df = pd.read_csv('./dataset/reviews.csv')"
   ]
  },
  {
   "cell_type": "code",
   "execution_count": 34,
   "id": "21e6bec5",
   "metadata": {},
   "outputs": [
    {
     "data": {
      "text/html": [
       "<div>\n",
       "<style scoped>\n",
       "    .dataframe tbody tr th:only-of-type {\n",
       "        vertical-align: middle;\n",
       "    }\n",
       "\n",
       "    .dataframe tbody tr th {\n",
       "        vertical-align: top;\n",
       "    }\n",
       "\n",
       "    .dataframe thead th {\n",
       "        text-align: right;\n",
       "    }\n",
       "</style>\n",
       "<table border=\"1\" class=\"dataframe\">\n",
       "  <thead>\n",
       "    <tr style=\"text-align: right;\">\n",
       "      <th></th>\n",
       "      <th>review_text</th>\n",
       "      <th>rating</th>\n",
       "    </tr>\n",
       "  </thead>\n",
       "  <tbody>\n",
       "    <tr>\n",
       "      <th>0</th>\n",
       "      <td>Estou muito satisfeito, o visor é melhor do qu...</td>\n",
       "      <td>4</td>\n",
       "    </tr>\n",
       "    <tr>\n",
       "      <th>1</th>\n",
       "      <td>\"muito boa\\n\\nO que gostei: preco\\n\\nO que não...</td>\n",
       "      <td>5</td>\n",
       "    </tr>\n",
       "    <tr>\n",
       "      <th>2</th>\n",
       "      <td>Rápida, ótima qualidade de impressão e fácil d...</td>\n",
       "      <td>5</td>\n",
       "    </tr>\n",
       "    <tr>\n",
       "      <th>3</th>\n",
       "      <td>Produto de ótima qualidade em todos os quesito!</td>\n",
       "      <td>5</td>\n",
       "    </tr>\n",
       "    <tr>\n",
       "      <th>4</th>\n",
       "      <td>Precisava comprar uma tv compatível com meu dv...</td>\n",
       "      <td>5</td>\n",
       "    </tr>\n",
       "  </tbody>\n",
       "</table>\n",
       "</div>"
      ],
      "text/plain": [
       "                                         review_text  rating\n",
       "0  Estou muito satisfeito, o visor é melhor do qu...       4\n",
       "1  \"muito boa\\n\\nO que gostei: preco\\n\\nO que não...       5\n",
       "2  Rápida, ótima qualidade de impressão e fácil d...       5\n",
       "3    Produto de ótima qualidade em todos os quesito!       5\n",
       "4  Precisava comprar uma tv compatível com meu dv...       5"
      ]
     },
     "execution_count": 34,
     "metadata": {},
     "output_type": "execute_result"
    }
   ],
   "source": [
    "df.head()"
   ]
  },
  {
   "cell_type": "code",
   "execution_count": 35,
   "id": "61db9daa",
   "metadata": {},
   "outputs": [
    {
     "name": "stdout",
     "output_type": "stream",
     "text": [
      "Before drop NA:\n",
      "review_text    84990\n",
      "rating         84991\n",
      "dtype: int64\n",
      "----------\n",
      "After drop NA:\n",
      "review_text    84990\n",
      "rating         84990\n",
      "dtype: int64\n"
     ]
    }
   ],
   "source": [
    "print('Before drop NA:')\n",
    "print(df.count())\n",
    "\n",
    "# There is 1 missing value at 'review_text'\n",
    "df.dropna(inplace=True)\n",
    "print('-'*10)\n",
    "print('After drop NA:')\n",
    "print(df.count())"
   ]
  },
  {
   "cell_type": "markdown",
   "id": "9ad54169",
   "metadata": {},
   "source": [
    "### Clean field 'review_text'\n",
    "#### - Functions we need:"
   ]
  },
  {
   "cell_type": "code",
   "execution_count": 36,
   "id": "94eaaede",
   "metadata": {},
   "outputs": [],
   "source": [
    "import unidecode\n",
    "import string\n",
    "import re\n",
    "\n",
    "def strip_ponctuation(text):\n",
    "    clean_text = ''.join(' ' if c in string.punctuation else c for c in text)\n",
    "    ''.join(clean_text.split())\n",
    "    return clean_text\n",
    "\n",
    "\n",
    "def strip_linebreak_tab(text):\n",
    "    return re.sub(r'\\n|\\t', ' ', text)\n",
    "\n",
    "\n",
    "def strip_multiple_whitespaces(text):\n",
    "    return re.sub(r'\\s{2,}', ' ', text)\n",
    "\n",
    "\n",
    "def strip_accents(text):\n",
    "    return unidecode.unidecode(text)"
   ]
  },
  {
   "cell_type": "markdown",
   "id": "d30068a2",
   "metadata": {},
   "source": [
    "#### Convert to lower case"
   ]
  },
  {
   "cell_type": "code",
   "execution_count": 37,
   "id": "9c814849",
   "metadata": {},
   "outputs": [
    {
     "data": {
      "text/html": [
       "<div>\n",
       "<style scoped>\n",
       "    .dataframe tbody tr th:only-of-type {\n",
       "        vertical-align: middle;\n",
       "    }\n",
       "\n",
       "    .dataframe tbody tr th {\n",
       "        vertical-align: top;\n",
       "    }\n",
       "\n",
       "    .dataframe thead th {\n",
       "        text-align: right;\n",
       "    }\n",
       "</style>\n",
       "<table border=\"1\" class=\"dataframe\">\n",
       "  <thead>\n",
       "    <tr style=\"text-align: right;\">\n",
       "      <th></th>\n",
       "      <th>review_text</th>\n",
       "      <th>rating</th>\n",
       "    </tr>\n",
       "  </thead>\n",
       "  <tbody>\n",
       "    <tr>\n",
       "      <th>0</th>\n",
       "      <td>estou muito satisfeito, o visor é melhor do qu...</td>\n",
       "      <td>4</td>\n",
       "    </tr>\n",
       "    <tr>\n",
       "      <th>1</th>\n",
       "      <td>\"muito boa\\n\\no que gostei: preco\\n\\no que não...</td>\n",
       "      <td>5</td>\n",
       "    </tr>\n",
       "    <tr>\n",
       "      <th>2</th>\n",
       "      <td>rápida, ótima qualidade de impressão e fácil d...</td>\n",
       "      <td>5</td>\n",
       "    </tr>\n",
       "    <tr>\n",
       "      <th>3</th>\n",
       "      <td>produto de ótima qualidade em todos os quesito!</td>\n",
       "      <td>5</td>\n",
       "    </tr>\n",
       "    <tr>\n",
       "      <th>4</th>\n",
       "      <td>precisava comprar uma tv compatível com meu dv...</td>\n",
       "      <td>5</td>\n",
       "    </tr>\n",
       "  </tbody>\n",
       "</table>\n",
       "</div>"
      ],
      "text/plain": [
       "                                         review_text  rating\n",
       "0  estou muito satisfeito, o visor é melhor do qu...       4\n",
       "1  \"muito boa\\n\\no que gostei: preco\\n\\no que não...       5\n",
       "2  rápida, ótima qualidade de impressão e fácil d...       5\n",
       "3    produto de ótima qualidade em todos os quesito!       5\n",
       "4  precisava comprar uma tv compatível com meu dv...       5"
      ]
     },
     "execution_count": 37,
     "metadata": {},
     "output_type": "execute_result"
    }
   ],
   "source": [
    "df['review_text'] = df['review_text'].apply(lambda review_text : review_text.lower())\n",
    "df.head()"
   ]
  },
  {
   "cell_type": "markdown",
   "id": "e423d95c",
   "metadata": {},
   "source": [
    "#### Strip ponctuation"
   ]
  },
  {
   "cell_type": "code",
   "execution_count": 38,
   "id": "80c87711",
   "metadata": {
    "scrolled": false
   },
   "outputs": [
    {
     "data": {
      "text/html": [
       "<div>\n",
       "<style scoped>\n",
       "    .dataframe tbody tr th:only-of-type {\n",
       "        vertical-align: middle;\n",
       "    }\n",
       "\n",
       "    .dataframe tbody tr th {\n",
       "        vertical-align: top;\n",
       "    }\n",
       "\n",
       "    .dataframe thead th {\n",
       "        text-align: right;\n",
       "    }\n",
       "</style>\n",
       "<table border=\"1\" class=\"dataframe\">\n",
       "  <thead>\n",
       "    <tr style=\"text-align: right;\">\n",
       "      <th></th>\n",
       "      <th>review_text</th>\n",
       "      <th>rating</th>\n",
       "    </tr>\n",
       "  </thead>\n",
       "  <tbody>\n",
       "    <tr>\n",
       "      <th>0</th>\n",
       "      <td>estou muito satisfeito  o visor é melhor do qu...</td>\n",
       "      <td>4</td>\n",
       "    </tr>\n",
       "    <tr>\n",
       "      <th>1</th>\n",
       "      <td>muito boa\\n\\no que gostei  preco\\n\\no que não...</td>\n",
       "      <td>5</td>\n",
       "    </tr>\n",
       "    <tr>\n",
       "      <th>2</th>\n",
       "      <td>rápida  ótima qualidade de impressão e fácil d...</td>\n",
       "      <td>5</td>\n",
       "    </tr>\n",
       "    <tr>\n",
       "      <th>3</th>\n",
       "      <td>produto de ótima qualidade em todos os quesito</td>\n",
       "      <td>5</td>\n",
       "    </tr>\n",
       "    <tr>\n",
       "      <th>4</th>\n",
       "      <td>precisava comprar uma tv compatível com meu dv...</td>\n",
       "      <td>5</td>\n",
       "    </tr>\n",
       "  </tbody>\n",
       "</table>\n",
       "</div>"
      ],
      "text/plain": [
       "                                         review_text  rating\n",
       "0  estou muito satisfeito  o visor é melhor do qu...       4\n",
       "1   muito boa\\n\\no que gostei  preco\\n\\no que não...       5\n",
       "2  rápida  ótima qualidade de impressão e fácil d...       5\n",
       "3    produto de ótima qualidade em todos os quesito        5\n",
       "4  precisava comprar uma tv compatível com meu dv...       5"
      ]
     },
     "execution_count": 38,
     "metadata": {},
     "output_type": "execute_result"
    }
   ],
   "source": [
    "df['review_text'] = df['review_text'].apply(lambda review_text : strip_ponctuation(review_text))\n",
    "df.head()"
   ]
  },
  {
   "cell_type": "markdown",
   "id": "4fec0df3",
   "metadata": {},
   "source": [
    "#### Strip line breaks and tabulations"
   ]
  },
  {
   "cell_type": "code",
   "execution_count": 39,
   "id": "61d10710",
   "metadata": {
    "scrolled": true
   },
   "outputs": [
    {
     "data": {
      "text/html": [
       "<div>\n",
       "<style scoped>\n",
       "    .dataframe tbody tr th:only-of-type {\n",
       "        vertical-align: middle;\n",
       "    }\n",
       "\n",
       "    .dataframe tbody tr th {\n",
       "        vertical-align: top;\n",
       "    }\n",
       "\n",
       "    .dataframe thead th {\n",
       "        text-align: right;\n",
       "    }\n",
       "</style>\n",
       "<table border=\"1\" class=\"dataframe\">\n",
       "  <thead>\n",
       "    <tr style=\"text-align: right;\">\n",
       "      <th></th>\n",
       "      <th>review_text</th>\n",
       "      <th>rating</th>\n",
       "    </tr>\n",
       "  </thead>\n",
       "  <tbody>\n",
       "    <tr>\n",
       "      <th>0</th>\n",
       "      <td>estou muito satisfeito  o visor é melhor do qu...</td>\n",
       "      <td>4</td>\n",
       "    </tr>\n",
       "    <tr>\n",
       "      <th>1</th>\n",
       "      <td>muito boa  o que gostei  preco  o que não gos...</td>\n",
       "      <td>5</td>\n",
       "    </tr>\n",
       "    <tr>\n",
       "      <th>2</th>\n",
       "      <td>rápida  ótima qualidade de impressão e fácil d...</td>\n",
       "      <td>5</td>\n",
       "    </tr>\n",
       "    <tr>\n",
       "      <th>3</th>\n",
       "      <td>produto de ótima qualidade em todos os quesito</td>\n",
       "      <td>5</td>\n",
       "    </tr>\n",
       "    <tr>\n",
       "      <th>4</th>\n",
       "      <td>precisava comprar uma tv compatível com meu dv...</td>\n",
       "      <td>5</td>\n",
       "    </tr>\n",
       "  </tbody>\n",
       "</table>\n",
       "</div>"
      ],
      "text/plain": [
       "                                         review_text  rating\n",
       "0  estou muito satisfeito  o visor é melhor do qu...       4\n",
       "1   muito boa  o que gostei  preco  o que não gos...       5\n",
       "2  rápida  ótima qualidade de impressão e fácil d...       5\n",
       "3    produto de ótima qualidade em todos os quesito        5\n",
       "4  precisava comprar uma tv compatível com meu dv...       5"
      ]
     },
     "execution_count": 39,
     "metadata": {},
     "output_type": "execute_result"
    }
   ],
   "source": [
    "df['review_text'] = df['review_text'].apply(lambda review_text : strip_linebreak_tab(review_text))\n",
    "df.head()"
   ]
  },
  {
   "cell_type": "markdown",
   "id": "fcf65b6e",
   "metadata": {},
   "source": [
    "#### Strip multiple whitespaces"
   ]
  },
  {
   "cell_type": "code",
   "execution_count": 40,
   "id": "b359b074",
   "metadata": {},
   "outputs": [
    {
     "data": {
      "text/html": [
       "<div>\n",
       "<style scoped>\n",
       "    .dataframe tbody tr th:only-of-type {\n",
       "        vertical-align: middle;\n",
       "    }\n",
       "\n",
       "    .dataframe tbody tr th {\n",
       "        vertical-align: top;\n",
       "    }\n",
       "\n",
       "    .dataframe thead th {\n",
       "        text-align: right;\n",
       "    }\n",
       "</style>\n",
       "<table border=\"1\" class=\"dataframe\">\n",
       "  <thead>\n",
       "    <tr style=\"text-align: right;\">\n",
       "      <th></th>\n",
       "      <th>review_text</th>\n",
       "      <th>rating</th>\n",
       "    </tr>\n",
       "  </thead>\n",
       "  <tbody>\n",
       "    <tr>\n",
       "      <th>0</th>\n",
       "      <td>estou muito satisfeito o visor é melhor do que...</td>\n",
       "      <td>4</td>\n",
       "    </tr>\n",
       "    <tr>\n",
       "      <th>1</th>\n",
       "      <td>muito boa o que gostei preco o que não gostei...</td>\n",
       "      <td>5</td>\n",
       "    </tr>\n",
       "    <tr>\n",
       "      <th>2</th>\n",
       "      <td>rápida ótima qualidade de impressão e fácil de...</td>\n",
       "      <td>5</td>\n",
       "    </tr>\n",
       "    <tr>\n",
       "      <th>3</th>\n",
       "      <td>produto de ótima qualidade em todos os quesito</td>\n",
       "      <td>5</td>\n",
       "    </tr>\n",
       "    <tr>\n",
       "      <th>4</th>\n",
       "      <td>precisava comprar uma tv compatível com meu dv...</td>\n",
       "      <td>5</td>\n",
       "    </tr>\n",
       "  </tbody>\n",
       "</table>\n",
       "</div>"
      ],
      "text/plain": [
       "                                         review_text  rating\n",
       "0  estou muito satisfeito o visor é melhor do que...       4\n",
       "1   muito boa o que gostei preco o que não gostei...       5\n",
       "2  rápida ótima qualidade de impressão e fácil de...       5\n",
       "3    produto de ótima qualidade em todos os quesito        5\n",
       "4  precisava comprar uma tv compatível com meu dv...       5"
      ]
     },
     "execution_count": 40,
     "metadata": {},
     "output_type": "execute_result"
    }
   ],
   "source": [
    "df['review_text'] = df['review_text'].apply(lambda review_text : strip_multiple_whitespaces(review_text))\n",
    "df.head()"
   ]
  },
  {
   "cell_type": "markdown",
   "id": "842cd3d9",
   "metadata": {},
   "source": [
    "#### Strip accents"
   ]
  },
  {
   "cell_type": "code",
   "execution_count": 41,
   "id": "8612051e",
   "metadata": {},
   "outputs": [
    {
     "data": {
      "text/html": [
       "<div>\n",
       "<style scoped>\n",
       "    .dataframe tbody tr th:only-of-type {\n",
       "        vertical-align: middle;\n",
       "    }\n",
       "\n",
       "    .dataframe tbody tr th {\n",
       "        vertical-align: top;\n",
       "    }\n",
       "\n",
       "    .dataframe thead th {\n",
       "        text-align: right;\n",
       "    }\n",
       "</style>\n",
       "<table border=\"1\" class=\"dataframe\">\n",
       "  <thead>\n",
       "    <tr style=\"text-align: right;\">\n",
       "      <th></th>\n",
       "      <th>review_text</th>\n",
       "      <th>rating</th>\n",
       "    </tr>\n",
       "  </thead>\n",
       "  <tbody>\n",
       "    <tr>\n",
       "      <th>0</th>\n",
       "      <td>estou muito satisfeito o visor e melhor do que...</td>\n",
       "      <td>4</td>\n",
       "    </tr>\n",
       "    <tr>\n",
       "      <th>1</th>\n",
       "      <td>muito boa o que gostei preco o que nao gostei...</td>\n",
       "      <td>5</td>\n",
       "    </tr>\n",
       "    <tr>\n",
       "      <th>2</th>\n",
       "      <td>rapida otima qualidade de impressao e facil de...</td>\n",
       "      <td>5</td>\n",
       "    </tr>\n",
       "    <tr>\n",
       "      <th>3</th>\n",
       "      <td>produto de otima qualidade em todos os quesito</td>\n",
       "      <td>5</td>\n",
       "    </tr>\n",
       "    <tr>\n",
       "      <th>4</th>\n",
       "      <td>precisava comprar uma tv compativel com meu dv...</td>\n",
       "      <td>5</td>\n",
       "    </tr>\n",
       "  </tbody>\n",
       "</table>\n",
       "</div>"
      ],
      "text/plain": [
       "                                         review_text  rating\n",
       "0  estou muito satisfeito o visor e melhor do que...       4\n",
       "1   muito boa o que gostei preco o que nao gostei...       5\n",
       "2  rapida otima qualidade de impressao e facil de...       5\n",
       "3    produto de otima qualidade em todos os quesito        5\n",
       "4  precisava comprar uma tv compativel com meu dv...       5"
      ]
     },
     "execution_count": 41,
     "metadata": {},
     "output_type": "execute_result"
    }
   ],
   "source": [
    "df['review_text'] = df['review_text'].apply(lambda review_text : strip_accents(review_text))\n",
    "df.head()"
   ]
  },
  {
   "cell_type": "markdown",
   "id": "5dd726b1",
   "metadata": {},
   "source": [
    "### Create column 'sentiment'"
   ]
  },
  {
   "cell_type": "code",
   "execution_count": 42,
   "id": "1e4c8374",
   "metadata": {
    "scrolled": true
   },
   "outputs": [
    {
     "data": {
      "text/html": [
       "<div>\n",
       "<style scoped>\n",
       "    .dataframe tbody tr th:only-of-type {\n",
       "        vertical-align: middle;\n",
       "    }\n",
       "\n",
       "    .dataframe tbody tr th {\n",
       "        vertical-align: top;\n",
       "    }\n",
       "\n",
       "    .dataframe thead th {\n",
       "        text-align: right;\n",
       "    }\n",
       "</style>\n",
       "<table border=\"1\" class=\"dataframe\">\n",
       "  <thead>\n",
       "    <tr style=\"text-align: right;\">\n",
       "      <th></th>\n",
       "      <th>review_text</th>\n",
       "      <th>rating</th>\n",
       "      <th>sentiment</th>\n",
       "    </tr>\n",
       "  </thead>\n",
       "  <tbody>\n",
       "    <tr>\n",
       "      <th>0</th>\n",
       "      <td>estou muito satisfeito o visor e melhor do que...</td>\n",
       "      <td>4</td>\n",
       "      <td>positivo</td>\n",
       "    </tr>\n",
       "    <tr>\n",
       "      <th>1</th>\n",
       "      <td>muito boa o que gostei preco o que nao gostei...</td>\n",
       "      <td>5</td>\n",
       "      <td>positivo</td>\n",
       "    </tr>\n",
       "    <tr>\n",
       "      <th>2</th>\n",
       "      <td>rapida otima qualidade de impressao e facil de...</td>\n",
       "      <td>5</td>\n",
       "      <td>positivo</td>\n",
       "    </tr>\n",
       "    <tr>\n",
       "      <th>3</th>\n",
       "      <td>produto de otima qualidade em todos os quesito</td>\n",
       "      <td>5</td>\n",
       "      <td>positivo</td>\n",
       "    </tr>\n",
       "    <tr>\n",
       "      <th>4</th>\n",
       "      <td>precisava comprar uma tv compativel com meu dv...</td>\n",
       "      <td>5</td>\n",
       "      <td>positivo</td>\n",
       "    </tr>\n",
       "  </tbody>\n",
       "</table>\n",
       "</div>"
      ],
      "text/plain": [
       "                                         review_text  rating sentiment\n",
       "0  estou muito satisfeito o visor e melhor do que...       4  positivo\n",
       "1   muito boa o que gostei preco o que nao gostei...       5  positivo\n",
       "2  rapida otima qualidade de impressao e facil de...       5  positivo\n",
       "3    produto de otima qualidade em todos os quesito        5  positivo\n",
       "4  precisava comprar uma tv compativel com meu dv...       5  positivo"
      ]
     },
     "execution_count": 42,
     "metadata": {},
     "output_type": "execute_result"
    }
   ],
   "source": [
    "def get_sentiment(rating):\n",
    "    if rating <= 3:\n",
    "        return 'negativo'\n",
    "    elif rating > 3:\n",
    "        return 'positivo'\n",
    "\n",
    "df['sentiment'] = df.rating.apply(lambda rating : get_sentiment(rating))\n",
    "df.head()"
   ]
  },
  {
   "cell_type": "markdown",
   "id": "afaf194f",
   "metadata": {},
   "source": [
    "# Task 2: Distribute the dataframe evenly\n",
    "##### - Same quantity of positive and negative reviews"
   ]
  },
  {
   "cell_type": "code",
   "execution_count": 51,
   "id": "d09c3803",
   "metadata": {},
   "outputs": [
    {
     "name": "stdout",
     "output_type": "stream",
     "text": [
      "66816\n",
      "18174\n"
     ]
    }
   ],
   "source": [
    "print(df[df['sentiment'] == 'positivo'].count()[0])\n",
    "print(df[df['sentiment'] == 'negativo'].count()[0])"
   ]
  },
  {
   "cell_type": "code",
   "execution_count": 52,
   "id": "cd5d10c3",
   "metadata": {
    "scrolled": true
   },
   "outputs": [
    {
     "data": {
      "text/html": [
       "<div>\n",
       "<style scoped>\n",
       "    .dataframe tbody tr th:only-of-type {\n",
       "        vertical-align: middle;\n",
       "    }\n",
       "\n",
       "    .dataframe tbody tr th {\n",
       "        vertical-align: top;\n",
       "    }\n",
       "\n",
       "    .dataframe thead th {\n",
       "        text-align: right;\n",
       "    }\n",
       "</style>\n",
       "<table border=\"1\" class=\"dataframe\">\n",
       "  <thead>\n",
       "    <tr style=\"text-align: right;\">\n",
       "      <th></th>\n",
       "      <th>review_text</th>\n",
       "      <th>rating</th>\n",
       "      <th>sentiment</th>\n",
       "    </tr>\n",
       "  </thead>\n",
       "  <tbody>\n",
       "    <tr>\n",
       "      <th>1009</th>\n",
       "      <td>vale pelo preco e ser dual chip o resto e so e...</td>\n",
       "      <td>3</td>\n",
       "      <td>negativo</td>\n",
       "    </tr>\n",
       "    <tr>\n",
       "      <th>56909</th>\n",
       "      <td>um bom produto valeu a pena comprar o que gost...</td>\n",
       "      <td>3</td>\n",
       "      <td>negativo</td>\n",
       "    </tr>\n",
       "    <tr>\n",
       "      <th>24498</th>\n",
       "      <td>esse celular esta na faixa de preco e e muito ...</td>\n",
       "      <td>1</td>\n",
       "      <td>negativo</td>\n",
       "    </tr>\n",
       "    <tr>\n",
       "      <th>81055</th>\n",
       "      <td>e um produto perfumadinho que tem seu principa...</td>\n",
       "      <td>2</td>\n",
       "      <td>negativo</td>\n",
       "    </tr>\n",
       "    <tr>\n",
       "      <th>51258</th>\n",
       "      <td>solta os botoes dificil de limpar e parou sain...</td>\n",
       "      <td>1</td>\n",
       "      <td>negativo</td>\n",
       "    </tr>\n",
       "  </tbody>\n",
       "</table>\n",
       "</div>"
      ],
      "text/plain": [
       "                                             review_text  rating sentiment\n",
       "1009   vale pelo preco e ser dual chip o resto e so e...       3  negativo\n",
       "56909  um bom produto valeu a pena comprar o que gost...       3  negativo\n",
       "24498  esse celular esta na faixa de preco e e muito ...       1  negativo\n",
       "81055  e um produto perfumadinho que tem seu principa...       2  negativo\n",
       "51258  solta os botoes dificil de limpar e parou sain...       1  negativo"
      ]
     },
     "execution_count": 52,
     "metadata": {},
     "output_type": "execute_result"
    }
   ],
   "source": [
    "evenly_distrubute_quantity = df[df.sentiment == 'negativo'].count()[0]\n",
    "\n",
    "evenly_distrubute_quantity\n",
    "df = df.groupby('sentiment', as_index=False, group_keys=False).apply(lambda x: x.sample(n=evenly_distrubute_quantity, random_state=1, replace=True))\n",
    "df.head()"
   ]
  },
  {
   "cell_type": "code",
   "execution_count": 53,
   "id": "a81842c5",
   "metadata": {},
   "outputs": [
    {
     "name": "stdout",
     "output_type": "stream",
     "text": [
      "18174\n",
      "18174\n"
     ]
    }
   ],
   "source": [
    "print(df[df['sentiment'] == 'positivo'].count()[0])\n",
    "print(df[df['sentiment'] == 'negativo'].count()[0])"
   ]
  },
  {
   "cell_type": "markdown",
   "id": "a04d9548",
   "metadata": {},
   "source": [
    "# Task 3: Stopwords removal and stemming"
   ]
  },
  {
   "cell_type": "code",
   "execution_count": 54,
   "id": "7842f24f",
   "metadata": {},
   "outputs": [
    {
     "name": "stderr",
     "output_type": "stream",
     "text": [
      "[nltk_data] Downloading package stopwords to\n",
      "[nltk_data]     C:\\Users\\iago1\\AppData\\Roaming\\nltk_data...\n",
      "[nltk_data]   Package stopwords is already up-to-date!\n",
      "[nltk_data] Downloading package rslp to\n",
      "[nltk_data]     C:\\Users\\iago1\\AppData\\Roaming\\nltk_data...\n",
      "[nltk_data]   Package rslp is already up-to-date!\n"
     ]
    },
    {
     "data": {
      "text/plain": [
       "True"
      ]
     },
     "execution_count": 54,
     "metadata": {},
     "output_type": "execute_result"
    }
   ],
   "source": [
    "import nltk\n",
    "\n",
    "# nltk.download('wordnet')\n",
    "nltk.download('stopwords')\n",
    "nltk.download('rslp')"
   ]
  },
  {
   "cell_type": "code",
   "execution_count": 55,
   "id": "b0e1b1f4",
   "metadata": {},
   "outputs": [],
   "source": [
    "from nltk.tokenize import word_tokenize\n",
    "from nltk.corpus import stopwords\n",
    "from nltk.stem import RSLPStemmer\n",
    "\n",
    "def get_tokenized(text):\n",
    "    return word_tokenize(text)"
   ]
  },
  {
   "cell_type": "markdown",
   "id": "a593cfc3",
   "metadata": {},
   "source": [
    "### Stopwords\n",
    "##### stopwords are words that we want to ignore because they dont altere the meaning of the phrase."
   ]
  },
  {
   "cell_type": "code",
   "execution_count": 56,
   "id": "af4fba9c",
   "metadata": {
    "scrolled": true
   },
   "outputs": [],
   "source": [
    "stop_words = stopwords.words('portuguese')\n",
    "\n",
    "stop_words.remove('não')\n",
    "# the word 'não' (not) is very important to us\n",
    "\n",
    "def get_text_stopworded(text):\n",
    "    text_tokenized = get_tokenized(text)\n",
    "    \n",
    "    text_stopworded = []\n",
    "    \n",
    "    for word in text_tokenized:\n",
    "        if word not in stop_words:\n",
    "            text_stopworded.append(word)\n",
    "    \n",
    "    text_stopworded = (\" \").join(text_stopworded)\n",
    "    \n",
    "    return text_stopworded"
   ]
  },
  {
   "cell_type": "markdown",
   "id": "0ff00c90",
   "metadata": {},
   "source": [
    "### Stemming\n",
    "##### Stemming is the process of reducing inflected words. For example, the words \"likes\" and \"liked\" will be transformed into 'like\" and our program will consider as the same meaning."
   ]
  },
  {
   "cell_type": "code",
   "execution_count": 57,
   "id": "16496722",
   "metadata": {},
   "outputs": [],
   "source": [
    "def get_text_stemmed(text):\n",
    "    text_tokenized = get_tokenized(text)\n",
    "    \n",
    "    text_stemmed = []\n",
    "    stemmer = RSLPStemmer()\n",
    "\n",
    "    for word in text_tokenized:\n",
    "        word_stemmed = stemmer.stem(word)\n",
    "        text_stemmed.append(word_stemmed)\n",
    "    \n",
    "    text_stemmed = (\" \").join(text_stemmed)\n",
    "    \n",
    "    return text_stemmed"
   ]
  },
  {
   "cell_type": "markdown",
   "id": "28f4fc5d",
   "metadata": {},
   "source": [
    "### Getting the stopworded, stemmed and stopworded/stemmed columns to compare the accuracy of our model"
   ]
  },
  {
   "cell_type": "code",
   "execution_count": 58,
   "id": "68aab7bd",
   "metadata": {
    "scrolled": false
   },
   "outputs": [
    {
     "data": {
      "text/html": [
       "<div>\n",
       "<style scoped>\n",
       "    .dataframe tbody tr th:only-of-type {\n",
       "        vertical-align: middle;\n",
       "    }\n",
       "\n",
       "    .dataframe tbody tr th {\n",
       "        vertical-align: top;\n",
       "    }\n",
       "\n",
       "    .dataframe thead th {\n",
       "        text-align: right;\n",
       "    }\n",
       "</style>\n",
       "<table border=\"1\" class=\"dataframe\">\n",
       "  <thead>\n",
       "    <tr style=\"text-align: right;\">\n",
       "      <th></th>\n",
       "      <th>review_text</th>\n",
       "      <th>rating</th>\n",
       "      <th>sentiment</th>\n",
       "      <th>review_text_stopworded</th>\n",
       "      <th>review_text_stemmed</th>\n",
       "      <th>review_text_stopworded_stemmed</th>\n",
       "    </tr>\n",
       "  </thead>\n",
       "  <tbody>\n",
       "    <tr>\n",
       "      <th>1009</th>\n",
       "      <td>vale pelo preco e ser dual chip o resto e so e...</td>\n",
       "      <td>3</td>\n",
       "      <td>negativo</td>\n",
       "      <td>vale preco ser dual chip resto so enfeite gost...</td>\n",
       "      <td>val pel prec e ser dual chip o rest e so enfei...</td>\n",
       "      <td>val prec ser dual chip rest so enfeit gost dua...</td>\n",
       "    </tr>\n",
       "    <tr>\n",
       "      <th>56909</th>\n",
       "      <td>um bom produto valeu a pena comprar o que gost...</td>\n",
       "      <td>3</td>\n",
       "      <td>negativo</td>\n",
       "      <td>bom produto valeu pena comprar gostei preco qu...</td>\n",
       "      <td>um bom produt val a pen compr o que gost prec ...</td>\n",
       "      <td>bom produt val pen compr gost prec qual boa fa...</td>\n",
       "    </tr>\n",
       "    <tr>\n",
       "      <th>24498</th>\n",
       "      <td>esse celular esta na faixa de preco e e muito ...</td>\n",
       "      <td>1</td>\n",
       "      <td>negativo</td>\n",
       "      <td>celular faixa preco bom gostei oimo faixa prec...</td>\n",
       "      <td>ess celul est na faix de prec e e muit bom o q...</td>\n",
       "      <td>celul faix prec bom gost oim faix prec nao gos...</td>\n",
       "    </tr>\n",
       "    <tr>\n",
       "      <th>81055</th>\n",
       "      <td>e um produto perfumadinho que tem seu principa...</td>\n",
       "      <td>2</td>\n",
       "      <td>negativo</td>\n",
       "      <td>produto perfumadinho principal mercado mulhere...</td>\n",
       "      <td>e um produt perfum que tem seu princip merc as...</td>\n",
       "      <td>produt perfum princip merc mulh adolesc nao vi...</td>\n",
       "    </tr>\n",
       "    <tr>\n",
       "      <th>51258</th>\n",
       "      <td>solta os botoes dificil de limpar e parou sain...</td>\n",
       "      <td>1</td>\n",
       "      <td>negativo</td>\n",
       "      <td>solta botoes dificil limpar parou saindo faisc...</td>\n",
       "      <td>solt os boto dificil de limp e par saind faisc...</td>\n",
       "      <td>solt boto dificil limp par saind faisc fog enf...</td>\n",
       "    </tr>\n",
       "  </tbody>\n",
       "</table>\n",
       "</div>"
      ],
      "text/plain": [
       "                                             review_text  rating sentiment  \\\n",
       "1009   vale pelo preco e ser dual chip o resto e so e...       3  negativo   \n",
       "56909  um bom produto valeu a pena comprar o que gost...       3  negativo   \n",
       "24498  esse celular esta na faixa de preco e e muito ...       1  negativo   \n",
       "81055  e um produto perfumadinho que tem seu principa...       2  negativo   \n",
       "51258  solta os botoes dificil de limpar e parou sain...       1  negativo   \n",
       "\n",
       "                                  review_text_stopworded  \\\n",
       "1009   vale preco ser dual chip resto so enfeite gost...   \n",
       "56909  bom produto valeu pena comprar gostei preco qu...   \n",
       "24498  celular faixa preco bom gostei oimo faixa prec...   \n",
       "81055  produto perfumadinho principal mercado mulhere...   \n",
       "51258  solta botoes dificil limpar parou saindo faisc...   \n",
       "\n",
       "                                     review_text_stemmed  \\\n",
       "1009   val pel prec e ser dual chip o rest e so enfei...   \n",
       "56909  um bom produt val a pen compr o que gost prec ...   \n",
       "24498  ess celul est na faix de prec e e muit bom o q...   \n",
       "81055  e um produt perfum que tem seu princip merc as...   \n",
       "51258  solt os boto dificil de limp e par saind faisc...   \n",
       "\n",
       "                          review_text_stopworded_stemmed  \n",
       "1009   val prec ser dual chip rest so enfeit gost dua...  \n",
       "56909  bom produt val pen compr gost prec qual boa fa...  \n",
       "24498  celul faix prec bom gost oim faix prec nao gos...  \n",
       "81055  produt perfum princip merc mulh adolesc nao vi...  \n",
       "51258  solt boto dificil limp par saind faisc fog enf...  "
      ]
     },
     "execution_count": 58,
     "metadata": {},
     "output_type": "execute_result"
    }
   ],
   "source": [
    "df_2 = df.copy()\n",
    "\n",
    "df_2['review_text_stopworded'] = df_2['review_text'].apply(lambda rev: get_text_stopworded(rev))\n",
    "df_2['review_text_stemmed'] = df_2['review_text'].apply(lambda rev: get_text_stemmed(rev))\n",
    "df_2['review_text_stopworded_stemmed'] = df_2['review_text_stopworded'].apply(lambda rev: get_text_stemmed(rev))\n",
    "df_2.head()"
   ]
  },
  {
   "cell_type": "markdown",
   "id": "a0eb5771",
   "metadata": {},
   "source": [
    "#### Exporting the data"
   ]
  },
  {
   "cell_type": "code",
   "execution_count": 59,
   "id": "7792e7f4",
   "metadata": {},
   "outputs": [],
   "source": [
    "df_2.to_csv('./dataset/cleaned_reviews.csv')"
   ]
  },
  {
   "cell_type": "markdown",
   "id": "82b5ac1f",
   "metadata": {},
   "source": [
    "# Task 4: Creating the model"
   ]
  },
  {
   "cell_type": "code",
   "execution_count": 60,
   "id": "d3f0f87c",
   "metadata": {},
   "outputs": [],
   "source": [
    "import pandas as pd\n",
    "df_2 = pd.read_csv('./dataset/cleaned_reviews.csv')"
   ]
  },
  {
   "cell_type": "markdown",
   "id": "d6916e1f",
   "metadata": {},
   "source": [
    "### Separating train and test data"
   ]
  },
  {
   "cell_type": "code",
   "execution_count": 61,
   "id": "17348d90",
   "metadata": {},
   "outputs": [],
   "source": [
    "from sklearn.model_selection import train_test_split\n",
    "y = df_2['sentiment']\n",
    "\n",
    "X = df_2['review_text']\n",
    "X_stopworded = df_2['review_text_stopworded']\n",
    "X_stemmed = df_2['review_text_stemmed']\n",
    "X_stopworded_stemmed = df_2['review_text_stopworded_stemmed']\n",
    "\n",
    "X_train, X_test, y_train, y_test = train_test_split(X, y, test_size=0.2, random_state=42)\n",
    "X_train_stopworded, X_test_stopworded, y_train, y_test = train_test_split(X_stopworded, y, test_size=0.2, random_state=42)\n",
    "X_train_stemmed, X_test_stemmed, y_train, y_test = train_test_split(X_stemmed, y, test_size=0.2, random_state=42)\n",
    "X_train_stopworded_stemmed, X_test_stopworded_stemmed, y_train, y_test = train_test_split(X_stopworded_stemmed, y, test_size=0.2, random_state=42)"
   ]
  },
  {
   "cell_type": "markdown",
   "id": "08b95467",
   "metadata": {},
   "source": [
    "### Vectorizing  (Bag of words) and model build"
   ]
  },
  {
   "cell_type": "markdown",
   "id": "8230588f",
   "metadata": {},
   "source": [
    "##### No stopword removal - No stemming"
   ]
  },
  {
   "cell_type": "code",
   "execution_count": 62,
   "id": "de5b86cc",
   "metadata": {},
   "outputs": [
    {
     "data": {
      "text/plain": [
       "LogisticRegression(max_iter=300)"
      ]
     },
     "execution_count": 62,
     "metadata": {},
     "output_type": "execute_result"
    }
   ],
   "source": [
    "from sklearn.linear_model import LogisticRegression\n",
    "from sklearn.feature_extraction.text import CountVectorizer\n",
    "\n",
    "vectorizer = CountVectorizer(binary=True)\n",
    "\n",
    "X_train_vectors = vectorizer.fit_transform(X_train)\n",
    "# Quantity of words we have\n",
    "len(vectorizer.get_feature_names())\n",
    "\n",
    "clf_log = LogisticRegression(max_iter=300)\n",
    "clf_log.fit(X_train_vectors, y_train)"
   ]
  },
  {
   "cell_type": "markdown",
   "id": "d010295f",
   "metadata": {},
   "source": [
    "##### Stopworded"
   ]
  },
  {
   "cell_type": "code",
   "execution_count": 63,
   "id": "adf20848",
   "metadata": {},
   "outputs": [
    {
     "data": {
      "text/plain": [
       "LogisticRegression(max_iter=300)"
      ]
     },
     "execution_count": 63,
     "metadata": {},
     "output_type": "execute_result"
    }
   ],
   "source": [
    "from sklearn.linear_model import LogisticRegression\n",
    "from sklearn.feature_extraction.text import CountVectorizer\n",
    "\n",
    "vectorizer_sw = CountVectorizer(binary=True)\n",
    "\n",
    "X_train_stopworded_vectors = vectorizer_sw.fit_transform(X_train_stopworded.values.astype('U'))\n",
    "\n",
    "clf_log_sw = LogisticRegression(max_iter=300)\n",
    "clf_log_sw.fit(X_train_stopworded_vectors, y_train)"
   ]
  },
  {
   "cell_type": "markdown",
   "id": "5c34f2ec",
   "metadata": {},
   "source": [
    "##### Stemmed"
   ]
  },
  {
   "cell_type": "code",
   "execution_count": 64,
   "id": "479de655",
   "metadata": {},
   "outputs": [
    {
     "name": "stderr",
     "output_type": "stream",
     "text": [
      "C:\\Users\\iago1\\anaconda3\\lib\\site-packages\\sklearn\\linear_model\\_logistic.py:763: ConvergenceWarning: lbfgs failed to converge (status=1):\n",
      "STOP: TOTAL NO. of ITERATIONS REACHED LIMIT.\n",
      "\n",
      "Increase the number of iterations (max_iter) or scale the data as shown in:\n",
      "    https://scikit-learn.org/stable/modules/preprocessing.html\n",
      "Please also refer to the documentation for alternative solver options:\n",
      "    https://scikit-learn.org/stable/modules/linear_model.html#logistic-regression\n",
      "  n_iter_i = _check_optimize_result(\n"
     ]
    },
    {
     "data": {
      "text/plain": [
       "LogisticRegression(max_iter=300)"
      ]
     },
     "execution_count": 64,
     "metadata": {},
     "output_type": "execute_result"
    }
   ],
   "source": [
    "from sklearn.linear_model import LogisticRegression\n",
    "from sklearn.feature_extraction.text import CountVectorizer\n",
    "\n",
    "vectorizer_st = CountVectorizer(binary=False)\n",
    "\n",
    "X_train_stemmed_vectors = vectorizer_st.fit_transform(X_train_stemmed.values.astype('U'))\n",
    "\n",
    "clf_log_st = LogisticRegression(max_iter=300)\n",
    "clf_log_st.fit(X_train_stemmed_vectors, y_train)"
   ]
  },
  {
   "cell_type": "markdown",
   "id": "e211109c",
   "metadata": {},
   "source": [
    "##### Stopworded & Stemmed"
   ]
  },
  {
   "cell_type": "code",
   "execution_count": 65,
   "id": "ebbfd716",
   "metadata": {},
   "outputs": [
    {
     "data": {
      "text/plain": [
       "LogisticRegression(max_iter=300)"
      ]
     },
     "execution_count": 65,
     "metadata": {},
     "output_type": "execute_result"
    }
   ],
   "source": [
    "from sklearn.linear_model import LogisticRegression\n",
    "from sklearn.feature_extraction.text import CountVectorizer\n",
    "\n",
    "vectorizer_sw_st = CountVectorizer(binary=True)\n",
    "\n",
    "X_train_stopworded_stemmed_vectors = vectorizer_sw_st.fit_transform(X_train_stopworded_stemmed.values.astype('U'))\n",
    "\n",
    "clf_log_sw_st = LogisticRegression(max_iter=300)\n",
    "clf_log_sw_st.fit(X_train_stopworded_stemmed_vectors, y_train)"
   ]
  },
  {
   "cell_type": "markdown",
   "id": "95490809",
   "metadata": {},
   "source": [
    "### Testing Score"
   ]
  },
  {
   "cell_type": "code",
   "execution_count": 66,
   "id": "8c5cb0bc",
   "metadata": {},
   "outputs": [],
   "source": [
    "from sklearn.metrics import f1_score"
   ]
  },
  {
   "cell_type": "code",
   "execution_count": 67,
   "id": "3d5a9365",
   "metadata": {},
   "outputs": [
    {
     "name": "stdout",
     "output_type": "stream",
     "text": [
      "[0.8142779  0.81211954]\n"
     ]
    },
    {
     "data": {
      "text/plain": [
       "0.8132049518569463"
      ]
     },
     "execution_count": 67,
     "metadata": {},
     "output_type": "execute_result"
    }
   ],
   "source": [
    "# No stopword removal - No stemming\n",
    "X_test_vectors = vectorizer.transform(X_test)\n",
    "\n",
    "print(f1_score(y_test, clf_log.predict(X_test_vectors), average=None, labels=['positivo','negativo']))\n",
    "score = clf_log.score(X_test_vectors, y_test)\n",
    "score"
   ]
  },
  {
   "cell_type": "code",
   "execution_count": 68,
   "id": "71fd8745",
   "metadata": {
    "scrolled": true
   },
   "outputs": [
    {
     "name": "stdout",
     "output_type": "stream",
     "text": [
      "[0.81205674 0.80882353]\n"
     ]
    },
    {
     "data": {
      "text/plain": [
       "0.8104539202200826"
      ]
     },
     "execution_count": 68,
     "metadata": {},
     "output_type": "execute_result"
    }
   ],
   "source": [
    "# Stopworded\n",
    "X_test_stopworded_vectors = vectorizer_sw.transform(X_test_stopworded.values.astype('U'))\n",
    "\n",
    "print(f1_score(y_test, clf_log_sw.predict(X_test_stopworded_vectors), average=None, labels=['positivo','negativo']))\n",
    "score_sw = clf_log_sw.score(X_test_stopworded_vectors, y_test)\n",
    "score_sw"
   ]
  },
  {
   "cell_type": "code",
   "execution_count": 69,
   "id": "ca8a101e",
   "metadata": {
    "scrolled": true
   },
   "outputs": [
    {
     "name": "stdout",
     "output_type": "stream",
     "text": [
      "[0.80685653 0.79932688]\n"
     ]
    },
    {
     "data": {
      "text/plain": [
       "0.8031636863823934"
      ]
     },
     "execution_count": 69,
     "metadata": {},
     "output_type": "execute_result"
    }
   ],
   "source": [
    "# Stemmed\n",
    "X_test_stemmed_vectors = vectorizer_st.transform(X_test_stemmed.values.astype('U'))\n",
    "\n",
    "print(f1_score(y_test, clf_log_st.predict(X_test_stemmed_vectors), average=None, labels=['positivo','negativo']))\n",
    "score_st = clf_log_st.score(X_test_stemmed_vectors, y_test)\n",
    "score_st "
   ]
  },
  {
   "cell_type": "code",
   "execution_count": 70,
   "id": "1120b8cf",
   "metadata": {
    "scrolled": false
   },
   "outputs": [
    {
     "name": "stdout",
     "output_type": "stream",
     "text": [
      "[0.79896345 0.79550499]\n"
     ]
    },
    {
     "data": {
      "text/plain": [
       "0.7972489683631362"
      ]
     },
     "execution_count": 70,
     "metadata": {},
     "output_type": "execute_result"
    }
   ],
   "source": [
    "# Stopworded and Stemmed\n",
    "X_test_stopworded_stemmed_vectors = vectorizer_sw_st.transform(X_test_stopworded_stemmed.values.astype('U'))\n",
    "\n",
    "print(f1_score(y_test, clf_log_sw_st.predict(X_test_stopworded_stemmed_vectors), average=None, labels=['positivo','negativo']))\n",
    "score_sw_st = clf_log_sw_st.score(X_test_stopworded_stemmed_vectors, y_test)\n",
    "score_sw_st"
   ]
  },
  {
   "cell_type": "markdown",
   "id": "5430a8a5",
   "metadata": {},
   "source": [
    "# Task 5: Comparing the results"
   ]
  },
  {
   "cell_type": "code",
   "execution_count": 71,
   "id": "10b9f42b",
   "metadata": {
    "scrolled": false
   },
   "outputs": [
    {
     "data": {
      "image/png": "[encoded data removed]",
      "text/plain": [
       "<Figure size 432x288 with 1 Axes>"
      ]
     },
     "metadata": {
      "needs_background": "light"
     },
     "output_type": "display_data"
    }
   ],
   "source": [
    "from matplotlib import pyplot as plt\n",
    "\n",
    "def addlabels(d):\n",
    "    for key, value in d.items():\n",
    "        plt.text(key, round(value, 2) * 1.001, round(value, 2),  ha = 'center', **font, size=14)    \n",
    "        \n",
    "scores_dict = {'No stopword removal - No stemming': score*100, 'Stopword removal': score_sw*100, 'Stemming': score_st*100, 'Stopword removal - stemming': score_sw_st*100}\n",
    "font = {'fontname':'Gill Sans MT'}\n",
    "\n",
    "plt.bar(scores_dict.keys(), scores_dict.values(), color='g')\n",
    "addlabels(scores_dict)\n",
    "\n",
    "plt.ylim([77.7,81.8])\n",
    "\n",
    "plt.xticks(rotation=90, **font)\n",
    "plt.yticks(**font)\n",
    "\n",
    "plt.xlabel('Method used', size=15, **font)\n",
    "plt.ylabel('Average Accuracy (%)', size=15, **font)\n",
    "\n",
    "plt.title('Effect of stemming and stopword removal', size=20, **font)\n",
    "plt.show()"
   ]
  }
 ],
 "metadata": {
  "kernelspec": {
   "display_name": "Python 3",
   "language": "python",
   "name": "python3"
  },
  "language_info": {
   "codemirror_mode": {
    "name": "ipython",
    "version": 3
   },
   "file_extension": ".py",
   "mimetype": "text/x-python",
   "name": "python",
   "nbconvert_exporter": "python",
   "pygments_lexer": "ipython3",
   "version": "3.8.8"
  }
 },
 "nbformat": 4,
 "nbformat_minor": 5
}
